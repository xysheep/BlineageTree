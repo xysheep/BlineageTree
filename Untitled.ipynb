{
 "cells": [
  {
   "cell_type": "code",
   "execution_count": 371,
   "metadata": {},
   "outputs": [],
   "source": [
    "import os\n",
    "import sys\n",
    "import numpy as np\n",
    "import matplotlib.pyplot as plt\n",
    "%matplotlib inline\n",
    "import re\n"
   ]
  },
  {
   "cell_type": "code",
   "execution_count": 372,
   "metadata": {},
   "outputs": [
    {
     "data": {
      "text/plain": [
       "9"
      ]
     },
     "execution_count": 372,
     "metadata": {},
     "output_type": "execute_result"
    }
   ],
   "source": [
    "p = re.compile(r'requires a total of\\s+(\\w+)\\.')\n",
    "int(p.search('fdas fwej \\nrequires a total of      9.000').groups()[0])"
   ]
  },
  {
   "cell_type": "code",
   "execution_count": 373,
   "metadata": {},
   "outputs": [],
   "source": [
    "def show_graph_with_labels(adjacency_matrix, mylabels):\n",
    "    rows, cols = np.where(adjacency_matrix == 1)\n",
    "    edges = zip(rows.tolist(), cols.tolist())\n",
    "    gr = nx.Graph()\n",
    "    gr.add_edges_from(edges)\n",
    "    np.random.seed(42)\n",
    "    nx.draw(gr, node_size=500, labels=mylabels, with_labels=True)\n",
    "    plt.show()"
   ]
  },
  {
   "cell_type": "code",
   "execution_count": 374,
   "metadata": {},
   "outputs": [],
   "source": [
    "def tokenize_newick(infile):\n",
    "    \"\"\"\n",
    "    Iterates through the tokens in a stream in newick format\n",
    "    infile -- a string or file stream\n",
    "    \"\"\"\n",
    "\n",
    "    def iter_stream(infile):\n",
    "        while True:\n",
    "            yield infile.read(1)\n",
    "\n",
    "    if not isinstance(infile, str):\n",
    "        infile = iter_stream(infile)\n",
    "    else:\n",
    "        infile = iter(infile)\n",
    "\n",
    "    word = []\n",
    "    for c in infile:\n",
    "        if c == \"\":\n",
    "            # EOF encountered\n",
    "            break\n",
    "\n",
    "        elif c in \" \\t\\n\":\n",
    "            # skip white space\n",
    "            if word:\n",
    "                yield \"\".join(word)\n",
    "                word[:] = []\n",
    "\n",
    "        elif c in \";(),:[]\":\n",
    "            # special tokens\n",
    "            if word:\n",
    "                yield \"\".join(word)\n",
    "                word[:] = []\n",
    "\n",
    "            if c == \"[\":\n",
    "                # parse comment\n",
    "                word.append(c)\n",
    "                for c in infile:\n",
    "                    word.append(c)\n",
    "                    if c == \"]\":\n",
    "                        break\n",
    "                yield \"\".join(word)\n",
    "                word[:] = []\n",
    "            else:\n",
    "                yield c\n",
    "        else:\n",
    "            # word token\n",
    "            word.append(c)\n",
    "\n",
    "    if word:\n",
    "        yield \"\".join(word)\n",
    "        word[:] = []"
   ]
  },
  {
   "cell_type": "code",
   "execution_count": 375,
   "metadata": {},
   "outputs": [],
   "source": [
    "def gettree(tokens):\n",
    "    ancestors = []\n",
    "\n",
    "    # create tree\n",
    "    tree = Tree()\n",
    "\n",
    "    # create root\n",
    "    node = TreeNode()\n",
    "    tree.root = node\n",
    "    nodes = [node]\n",
    "    token = None\n",
    "    data = []\n",
    "    empty = True\n",
    "    while True:\n",
    "        prev_token = token\n",
    "        token = tokens.next()\n",
    "        empty = False\n",
    "        if token == '(':  # new branchset\n",
    "            child = TreeNode()\n",
    "            nodes.append(child)\n",
    "            child.parent = node\n",
    "            node.children.append(child)\n",
    "            ancestors.append(node)\n",
    "            node = child\n",
    "\n",
    "        elif token == ',':  # another branch\n",
    "            parent = ancestors[-1]\n",
    "            child = TreeNode()\n",
    "            nodes.append(child)\n",
    "\n",
    "            child.parent = parent\n",
    "            parent.children.append(child)\n",
    "            node = child\n",
    "        elif token == ')':  # optional name next\n",
    "            node = ancestors.pop()\n",
    "        elif token == ':':  # optional length next\n",
    "            pass\n",
    "        elif token == ';':  # end of tree\n",
    "            break\n",
    "        else:\n",
    "            if prev_token in '(,':\n",
    "                node.name = token\n",
    "            elif prev_token in '):':\n",
    "                pass\n",
    "            else:\n",
    "                pass # data.append(token)\n",
    "\n",
    "    tree.nodes = nodes\n",
    "    k = 0\n",
    "    for i in range(len(tree.nodes)):\n",
    "        if tree.nodes[i].name =='':\n",
    "            tree.nodes[i].name = 'Idx'+str(k)\n",
    "            k+=1\n",
    "        tree.nodes[i].id = i\n",
    "    return tree"
   ]
  },
  {
   "cell_type": "code",
   "execution_count": 376,
   "metadata": {},
   "outputs": [],
   "source": [
    "class Tree:\n",
    "    def __init__(self):\n",
    "        self.root = None\n",
    "        self.nodes = []\n",
    "    def __str__(self):\n",
    "        return self.recursive(self.root)\n",
    "    def recursive(self, node, level=0):\n",
    "        ret = \"\\t\"*level + str(node) +\"\\n\"\n",
    "        for child in node.children:\n",
    "            ret += self.recursive(child, level+1)\n",
    "        return ret\n",
    "    def toadj(self):\n",
    "        adj = np.zeros([len(self.nodes), len(self.nodes)])\n",
    "        for i in range(len(self.nodes)):\n",
    "            for j in range(len(self.nodes[i].children)):\n",
    "                adj[i,self.nodes[i].children[j].id] = 1\n",
    "                adj[self.nodes[i].children[j].id,i] = 1\n",
    "        return adj\n",
    "    def findroot(self):\n",
    "        for i in range(len(self.nodes)):\n",
    "            if self.nodes[i].name == 'G.L.':\n",
    "                return i\n",
    "    def reorder(self):\n",
    "        # adj = self.toadj()\n",
    "        queue = [self.findroot()]\n",
    "        newnodes = [self.nodes[self.findroot()].copy()]\n",
    "        newtree = Tree()\n",
    "        while len(queue)>0:\n",
    "            nid = queue.pop(0)\n",
    "            pnode = [n for n in newnodes if n.id ==nid][0]           \n",
    "            neibours = self.nodes[nid].connectedids()\n",
    "            for n in neibours:\n",
    "                if n.name not in [k.name for k in newnodes]:\n",
    "                    nn = n.copy()\n",
    "                    newnodes.append(nn)\n",
    "                    pnode.children.append(nn)\n",
    "                    nn.parent = pnode\n",
    "                    queue.append(nn.id) \n",
    "        newtree.nodes = newnodes\n",
    "        newtree.root = newnodes[0]\n",
    "        for i in range(len(newnodes)):\n",
    "            newtree.nodes[i].id = i\n",
    "        return newtree\n",
    "    def show_ntree(self):\n",
    "        t = self.reorder()\n",
    "        out = []\n",
    "        for i in range(len(t.nodes)):\n",
    "            if len(t.nodes[i].children) > 0:\n",
    "                out.append('{}\\t{}'.format(t.nodes[i].id, '\\t'.join(list(map(lambda n:str(n.id), t.nodes[i].children)))))\n",
    "        return '\\n'.join(out)\n",
    "    def show_graph(self):\n",
    "        show_graph_with_labels(self.toadj(), dict(zip(list(range(len(self.nodes))),[n.name for n in self.nodes])))\n",
    "class TreeNode:\n",
    "    def __init__(self):\n",
    "        self.children = []\n",
    "        self.name = ''\n",
    "        self.parent = None\n",
    "        self.id = None\n",
    "    def connectedids(self):\n",
    "        return [n for n in [self.parent]+self.children if n]\n",
    "    def __repr__(self):\n",
    "        if self.name == '':\n",
    "            return 'iternode'\n",
    "        else:\n",
    "            return self.name\n",
    "    def copy(self):\n",
    "        newnode = TreeNode()\n",
    "        newnode.name = self.name\n",
    "        newnode.id = self.id\n",
    "        newnode.children = []\n",
    "        newnode.parent = None\n",
    "        return newnode"
   ]
  },
  {
   "cell_type": "code",
   "execution_count": 377,
   "metadata": {},
   "outputs": [
    {
     "name": "stdout",
     "output_type": "stream",
     "text": [
      "0\t1\n",
      "1\t2\t3\t4\n",
      "2\t5\t6\t7\n",
      "3\t8\t9\n",
      "4\t10\t11\n",
      "5\t12\t13\t14\n",
      "7\t15\t16\n",
      "12\t17\t18\n",
      "14\t19\t20\n",
      "15\t21\t22\n",
      "16\t23\t24\t25\t26\n",
      "19\t27\t28\n",
      "20\t29\t30\t31\n",
      "26\t32\t33\n",
      "33\t34\t35\n"
     ]
    }
   ],
   "source": [
    "f = open('data/Simulated/sim1/00001.phy.outtree','r')\n",
    "token = tokenize_newick(f)\n",
    "tree = gettree(token)\n",
    "print(tree.show_ntree())"
   ]
  },
  {
   "cell_type": "code",
   "execution_count": 378,
   "metadata": {},
   "outputs": [],
   "source": [
    "for isim in range(1, 10):\n",
    "    for i in range(1, 501):\n",
    "        fname = 'data/Simulated/sim%d/%05d.phy.outtree'%(isim, i)\n",
    "        fin = open(fname,'r')\n",
    "        finn = open(fname.replace('outtree','outfile'),'r')\n",
    "        nsize = int(p.search(finn.read()).groups()[0])\n",
    "        fout = open(fname.replace('outtree', 'out.tree'),'w')\n",
    "        token = tokenize_newick(fin)\n",
    "        tree = gettree(token)\n",
    "        print >>fout, nsize\n",
    "        print >>fout, tree.show_ntree()\n",
    "        fin.close()\n",
    "        fout.close()"
   ]
  },
  {
   "cell_type": "code",
   "execution_count": 345,
   "metadata": {},
   "outputs": [
    {
     "name": "stdout",
     "output_type": "stream",
     "text": [
      "0\t1\n",
      "1\t2\t3\t4\n",
      "2\t5\t6\t7\n",
      "3\t8\t9\n",
      "4\t10\t11\n",
      "5\t12\t13\t14\n",
      "6\t\n",
      "7\t15\t16\n",
      "8\t\n",
      "9\t\n",
      "10\t\n",
      "11\t\n",
      "12\t17\t18\n",
      "13\t\n",
      "14\t19\t20\n",
      "15\t21\t22\n",
      "16\t23\t24\t25\t26\n",
      "17\t\n",
      "18\t\n",
      "19\t27\t28\n",
      "20\t29\t30\t31\n",
      "21\t\n",
      "22\t\n",
      "23\t\n",
      "24\t\n",
      "25\t\n",
      "26\t32\t33\n",
      "27\t\n",
      "28\t\n",
      "29\t\n",
      "30\t\n",
      "31\t\n",
      "32\t\n",
      "33\t34\t35\n",
      "34\t\n",
      "35\t\n"
     ]
    }
   ],
   "source": [
    "tree.show_ntree()"
   ]
  },
  {
   "cell_type": "code",
   "execution_count": 346,
   "metadata": {},
   "outputs": [
    {
     "data": {
      "text/plain": [
       "36"
      ]
     },
     "execution_count": 346,
     "metadata": {},
     "output_type": "execute_result"
    }
   ],
   "source": [
    "len(tree.nodes)"
   ]
  }
 ],
 "metadata": {
  "kernelspec": {
   "display_name": "Python [conda env:bio]",
   "language": "python",
   "name": "conda-env-bio-py"
  },
  "language_info": {
   "codemirror_mode": {
    "name": "ipython",
    "version": 3
   },
   "file_extension": ".py",
   "mimetype": "text/x-python",
   "name": "python",
   "nbconvert_exporter": "python",
   "pygments_lexer": "ipython3",
   "version": "3.6.3"
  }
 },
 "nbformat": 4,
 "nbformat_minor": 2
}
